{
 "cells": [
  {
   "cell_type": "code",
   "execution_count": 1,
   "id": "c3dce76b-5876-46cb-bf8a-b90983ebbfa9",
   "metadata": {},
   "outputs": [],
   "source": [
    "import numpy as np\n",
    "import pandas as pd\n",
    "import matplotlib.pyplot as plt\n",
    "import seaborn as sns"
   ]
  },
  {
   "cell_type": "code",
   "execution_count": 3,
   "id": "cc5ebf5b-e16f-4ff7-8ce0-7500028d9877",
   "metadata": {},
   "outputs": [
    {
     "name": "stderr",
     "output_type": "stream",
     "text": [
      "C:\\Users\\archi\\AppData\\Local\\Temp\\ipykernel_308\\3612564956.py:1: DtypeWarning: Columns (25) have mixed types. Specify dtype option on import or set low_memory=False.\n",
      "  df = pd.read_csv(\"air_bnb(2).csv\")\n"
     ]
    }
   ],
   "source": []
  },
  {
   "cell_type": "code",
   "execution_count": 4,
   "id": "397d018f-5b3e-4d3e-a02c-5dd1a34395ff",
   "metadata": {},
   "outputs": [],
   "source": [
    "df = pd.read_csv(\"air_bnb(2).csv\", low_memory=False)\n"
   ]
  },
  {
   "cell_type": "code",
   "execution_count": 5,
   "id": "05844191-22a8-4c47-8b8d-3bade4f33f7c",
   "metadata": {},
   "outputs": [
    {
     "name": "stderr",
     "output_type": "stream",
     "text": [
      "C:\\Users\\archi\\AppData\\Local\\Temp\\ipykernel_308\\1275587369.py:1: DtypeWarning: Columns (25) have mixed types. Specify dtype option on import or set low_memory=False.\n",
      "  df = pd.read_csv(\"air_bnb(2).csv\", dtype={\"column_name\": str})\n"
     ]
    }
   ],
   "source": [
    "df = pd.read_csv(\"air_bnb(2).csv\", dtype={\"column_name\": str})\n"
   ]
  },
  {
   "cell_type": "code",
   "execution_count": 6,
   "id": "f9130eb6-6ef8-4738-a72d-02b3ef35bacd",
   "metadata": {},
   "outputs": [
    {
     "name": "stderr",
     "output_type": "stream",
     "text": [
      "C:\\Users\\archi\\AppData\\Local\\Temp\\ipykernel_308\\2737316726.py:1: DtypeWarning: Columns (25) have mixed types. Specify dtype option on import or set low_memory=False.\n",
      "  df = pd.read_csv(\"air_bnb(2).csv\", dtype={\"column_25_name\": str})\n"
     ]
    }
   ],
   "source": [
    "df = pd.read_csv(\"air_bnb(2).csv\", dtype={\"column_25_name\": str})\n"
   ]
  },
  {
   "cell_type": "code",
   "execution_count": 7,
   "id": "d42228ae-a64d-454f-8411-c34a635a6f1b",
   "metadata": {},
   "outputs": [
    {
     "name": "stdout",
     "output_type": "stream",
     "text": [
      "id                                  int64\n",
      "NAME                               object\n",
      "host id                             int64\n",
      "host_identity_verified             object\n",
      "host name                          object\n",
      "neighbourhood group                object\n",
      "neighbourhood                      object\n",
      "lat                               float64\n",
      "long                              float64\n",
      "country                            object\n",
      "country code                       object\n",
      "instant_bookable                   object\n",
      "cancellation_policy                object\n",
      "room type                          object\n",
      "Construction year                 float64\n",
      "price                              object\n",
      "service fee                        object\n",
      "minimum nights                    float64\n",
      "number of reviews                 float64\n",
      "last review                        object\n",
      "reviews per month                 float64\n",
      "review rate number                float64\n",
      "calculated host listings count    float64\n",
      "availability 365                  float64\n",
      "house_rules                        object\n",
      "license                            object\n",
      "dtype: object\n"
     ]
    }
   ],
   "source": [
    "df = pd.read_csv(\"air_bnb(2).csv\", low_memory=False)\n",
    "print(df.dtypes)  # Check data types of all columns\n"
   ]
  },
  {
   "cell_type": "code",
   "execution_count": 8,
   "id": "012a7149-e135-49b2-9367-5e156984b48e",
   "metadata": {},
   "outputs": [],
   "source": [
    "df = pd.read_csv(\"air_bnb(2).csv\", dtype={\"license\": str}, low_memory=False)\n"
   ]
  },
  {
   "cell_type": "code",
   "execution_count": 9,
   "id": "541ffbc8-96c0-4461-a667-ecc2f1b66e33",
   "metadata": {},
   "outputs": [],
   "source": [
    "df = pd.read_csv(\"air_bnb(2).csv\", low_memory=False)\n",
    "\n",
    "# Convert all object columns to strings to avoid mixed types\n",
    "df = df.astype(str)\n"
   ]
  },
  {
   "cell_type": "code",
   "execution_count": 10,
   "id": "3ac45737-1381-451e-895f-0292797ca4ff",
   "metadata": {},
   "outputs": [
    {
     "name": "stdout",
     "output_type": "stream",
     "text": [
      "<class 'pandas.core.frame.DataFrame'>\n",
      "RangeIndex: 102599 entries, 0 to 102598\n",
      "Data columns (total 26 columns):\n",
      " #   Column                          Non-Null Count   Dtype \n",
      "---  ------                          --------------   ----- \n",
      " 0   id                              102599 non-null  object\n",
      " 1   NAME                            102599 non-null  object\n",
      " 2   host id                         102599 non-null  object\n",
      " 3   host_identity_verified          102599 non-null  object\n",
      " 4   host name                       102599 non-null  object\n",
      " 5   neighbourhood group             102599 non-null  object\n",
      " 6   neighbourhood                   102599 non-null  object\n",
      " 7   lat                             102599 non-null  object\n",
      " 8   long                            102599 non-null  object\n",
      " 9   country                         102599 non-null  object\n",
      " 10  country code                    102599 non-null  object\n",
      " 11  instant_bookable                102599 non-null  object\n",
      " 12  cancellation_policy             102599 non-null  object\n",
      " 13  room type                       102599 non-null  object\n",
      " 14  Construction year               102599 non-null  object\n",
      " 15  price                           102599 non-null  object\n",
      " 16  service fee                     102599 non-null  object\n",
      " 17  minimum nights                  102599 non-null  object\n",
      " 18  number of reviews               102599 non-null  object\n",
      " 19  last review                     102599 non-null  object\n",
      " 20  reviews per month               102599 non-null  object\n",
      " 21  review rate number              102599 non-null  object\n",
      " 22  calculated host listings count  102599 non-null  object\n",
      " 23  availability 365                102599 non-null  object\n",
      " 24  house_rules                     102599 non-null  object\n",
      " 25  license                         102599 non-null  object\n",
      "dtypes: object(26)\n",
      "memory usage: 20.4+ MB\n"
     ]
    }
   ],
   "source": [
    "df.info()\n"
   ]
  },
  {
   "cell_type": "code",
   "execution_count": 11,
   "id": "a5110cfd-b519-4351-8d3a-28b806e2343c",
   "metadata": {},
   "outputs": [
    {
     "name": "stdout",
     "output_type": "stream",
     "text": [
      "id                                  int64\n",
      "NAME                               object\n",
      "host id                             int64\n",
      "host_identity_verified             object\n",
      "host name                          object\n",
      "neighbourhood group                object\n",
      "neighbourhood                      object\n",
      "lat                               float64\n",
      "long                              float64\n",
      "country                            object\n",
      "country code                       object\n",
      "instant_bookable                   object\n",
      "cancellation_policy                object\n",
      "room type                          object\n",
      "Construction year                 float64\n",
      "price                             float64\n",
      "service fee                       float64\n",
      "minimum nights                    float64\n",
      "number of reviews                 float64\n",
      "last review                        object\n",
      "reviews per month                 float64\n",
      "review rate number                float64\n",
      "calculated host listings count    float64\n",
      "availability 365                  float64\n",
      "house_rules                        object\n",
      "license                            object\n",
      "dtype: object\n"
     ]
    }
   ],
   "source": [
    "import pandas as pd\n",
    "\n",
    "# Load CSV while ensuring correct types\n",
    "df = pd.read_csv(\"air_bnb(2).csv\", low_memory=False)\n",
    "\n",
    "# Convert numeric columns to proper types\n",
    "numeric_cols = [\"id\", \"host id\", \"lat\", \"long\", \"Construction year\", \"price\",\n",
    "                \"service fee\", \"minimum nights\", \"number of reviews\",\n",
    "                \"reviews per month\", \"review rate number\", \"calculated host listings count\",\n",
    "                \"availability 365\"]\n",
    "\n",
    "for col in numeric_cols:\n",
    "    df[col] = pd.to_numeric(df[col], errors='coerce')  # Converts to numbers, replaces errors with NaN\n",
    "\n",
    "# Check data types after conversion\n",
    "print(df.dtypes)\n"
   ]
  },
  {
   "cell_type": "code",
   "execution_count": 12,
   "id": "d1eb6095-83aa-4f1e-81a4-eb6400e61c1e",
   "metadata": {},
   "outputs": [
    {
     "name": "stdout",
     "output_type": "stream",
     "text": [
      "<class 'pandas.core.frame.DataFrame'>\n",
      "RangeIndex: 102599 entries, 0 to 102598\n",
      "Data columns (total 26 columns):\n",
      " #   Column                          Non-Null Count   Dtype  \n",
      "---  ------                          --------------   -----  \n",
      " 0   id                              102599 non-null  int64  \n",
      " 1   NAME                            102349 non-null  object \n",
      " 2   host id                         102599 non-null  int64  \n",
      " 3   host_identity_verified          102310 non-null  object \n",
      " 4   host name                       102193 non-null  object \n",
      " 5   neighbourhood group             102570 non-null  object \n",
      " 6   neighbourhood                   102583 non-null  object \n",
      " 7   lat                             102591 non-null  float64\n",
      " 8   long                            102591 non-null  float64\n",
      " 9   country                         102067 non-null  object \n",
      " 10  country code                    102468 non-null  object \n",
      " 11  instant_bookable                102494 non-null  object \n",
      " 12  cancellation_policy             102523 non-null  object \n",
      " 13  room type                       102599 non-null  object \n",
      " 14  Construction year               102385 non-null  float64\n",
      " 15  price                           0 non-null       float64\n",
      " 16  service fee                     0 non-null       float64\n",
      " 17  minimum nights                  102190 non-null  float64\n",
      " 18  number of reviews               102416 non-null  float64\n",
      " 19  last review                     86706 non-null   object \n",
      " 20  reviews per month               86720 non-null   float64\n",
      " 21  review rate number              102273 non-null  float64\n",
      " 22  calculated host listings count  102280 non-null  float64\n",
      " 23  availability 365                102151 non-null  float64\n",
      " 24  house_rules                     50468 non-null   object \n",
      " 25  license                         2 non-null       object \n",
      "dtypes: float64(11), int64(2), object(13)\n",
      "memory usage: 20.4+ MB\n"
     ]
    }
   ],
   "source": [
    "df.info()\n"
   ]
  },
  {
   "cell_type": "code",
   "execution_count": 13,
   "id": "1850ba4d-856f-4023-9015-adc1d4c548f1",
   "metadata": {},
   "outputs": [
    {
     "name": "stdout",
     "output_type": "stream",
     "text": [
      "   price  service fee\n",
      "0  966.0        193.0\n",
      "1  142.0         28.0\n",
      "2  620.0        124.0\n",
      "3  368.0         74.0\n",
      "4  204.0         41.0\n",
      "<class 'pandas.core.frame.DataFrame'>\n",
      "RangeIndex: 102599 entries, 0 to 102598\n",
      "Data columns (total 26 columns):\n",
      " #   Column                          Non-Null Count   Dtype  \n",
      "---  ------                          --------------   -----  \n",
      " 0   id                              102599 non-null  int64  \n",
      " 1   NAME                            102349 non-null  object \n",
      " 2   host id                         102599 non-null  int64  \n",
      " 3   host_identity_verified          102310 non-null  object \n",
      " 4   host name                       102193 non-null  object \n",
      " 5   neighbourhood group             102570 non-null  object \n",
      " 6   neighbourhood                   102583 non-null  object \n",
      " 7   lat                             102591 non-null  float64\n",
      " 8   long                            102591 non-null  float64\n",
      " 9   country                         102067 non-null  object \n",
      " 10  country code                    102468 non-null  object \n",
      " 11  instant_bookable                102494 non-null  object \n",
      " 12  cancellation_policy             102523 non-null  object \n",
      " 13  room type                       102599 non-null  object \n",
      " 14  Construction year               102385 non-null  float64\n",
      " 15  price                           102352 non-null  float64\n",
      " 16  service fee                     102326 non-null  float64\n",
      " 17  minimum nights                  102190 non-null  float64\n",
      " 18  number of reviews               102416 non-null  float64\n",
      " 19  last review                     86706 non-null   object \n",
      " 20  reviews per month               86720 non-null   float64\n",
      " 21  review rate number              102273 non-null  float64\n",
      " 22  calculated host listings count  102280 non-null  float64\n",
      " 23  availability 365                102151 non-null  float64\n",
      " 24  house_rules                     50468 non-null   object \n",
      " 25  license                         2 non-null       object \n",
      "dtypes: float64(11), int64(2), object(13)\n",
      "memory usage: 20.4+ MB\n",
      "None\n"
     ]
    }
   ],
   "source": [
    "import pandas as pd\n",
    "\n",
    "# Reload the dataset\n",
    "df = pd.read_csv(\"air_bnb(2).csv\", low_memory=False)\n",
    "\n",
    "# Function to remove non-numeric characters\n",
    "def clean_price_column(column):\n",
    "    return pd.to_numeric(df[column].replace(r\"[^\\d.]\", \"\", regex=True), errors=\"coerce\")\n",
    "\n",
    "# Apply cleaning to price-related columns\n",
    "df[\"price\"] = clean_price_column(\"price\")\n",
    "df[\"service fee\"] = clean_price_column(\"service fee\")\n",
    "\n",
    "# Convert other numeric columns (same as before)\n",
    "numeric_cols = [\"id\", \"host id\", \"lat\", \"long\", \"Construction year\", \"minimum nights\",\n",
    "                \"number of reviews\", \"reviews per month\", \"review rate number\",\n",
    "                \"calculated host listings count\", \"availability 365\"]\n",
    "\n",
    "for col in numeric_cols:\n",
    "    df[col] = pd.to_numeric(df[col], errors='coerce')\n",
    "\n",
    "# Check if price and service fee are fixed\n",
    "print(df[[\"price\", \"service fee\"]].head())\n",
    "print(df.info())\n"
   ]
  },
  {
   "cell_type": "code",
   "execution_count": 14,
   "id": "eefbe9a5-03a3-4e82-b5c2-577772db20a8",
   "metadata": {},
   "outputs": [],
   "source": [
    "df.drop(columns=[\"license\"], inplace=True)\n"
   ]
  },
  {
   "cell_type": "code",
   "execution_count": 15,
   "id": "dcf9bc42-ab93-4ff0-819d-b744f28e0715",
   "metadata": {},
   "outputs": [],
   "source": [
    "text_cols = [\"host name\", \"country\", \"neighbourhood group\", \"house_rules\"]\n",
    "df[text_cols] = df[text_cols].fillna(\"Unknown\")\n"
   ]
  },
  {
   "cell_type": "code",
   "execution_count": 16,
   "id": "ee093978-4b65-4c84-a85b-2f4bddfbb347",
   "metadata": {},
   "outputs": [],
   "source": [
    "df.fillna(df.median(numeric_only=True), inplace=True)\n"
   ]
  },
  {
   "cell_type": "code",
   "execution_count": 17,
   "id": "8982cef3-bf7a-4df4-8abc-decbbc0164c7",
   "metadata": {},
   "outputs": [],
   "source": [
    "df[[\"reviews per month\", \"review rate number\"]] = df[[\"reviews per month\", \"review rate number\"]].fillna(0)\n"
   ]
  },
  {
   "cell_type": "code",
   "execution_count": 18,
   "id": "ae1c0fd8-033d-4c56-88c7-9a02153c881c",
   "metadata": {},
   "outputs": [
    {
     "name": "stdout",
     "output_type": "stream",
     "text": [
      "<class 'pandas.core.frame.DataFrame'>\n",
      "RangeIndex: 102599 entries, 0 to 102598\n",
      "Data columns (total 25 columns):\n",
      " #   Column                          Non-Null Count   Dtype  \n",
      "---  ------                          --------------   -----  \n",
      " 0   id                              102599 non-null  int64  \n",
      " 1   NAME                            102349 non-null  object \n",
      " 2   host id                         102599 non-null  int64  \n",
      " 3   host_identity_verified          102310 non-null  object \n",
      " 4   host name                       102599 non-null  object \n",
      " 5   neighbourhood group             102599 non-null  object \n",
      " 6   neighbourhood                   102583 non-null  object \n",
      " 7   lat                             102599 non-null  float64\n",
      " 8   long                            102599 non-null  float64\n",
      " 9   country                         102599 non-null  object \n",
      " 10  country code                    102468 non-null  object \n",
      " 11  instant_bookable                102494 non-null  object \n",
      " 12  cancellation_policy             102523 non-null  object \n",
      " 13  room type                       102599 non-null  object \n",
      " 14  Construction year               102599 non-null  float64\n",
      " 15  price                           102599 non-null  float64\n",
      " 16  service fee                     102599 non-null  float64\n",
      " 17  minimum nights                  102599 non-null  float64\n",
      " 18  number of reviews               102599 non-null  float64\n",
      " 19  last review                     86706 non-null   object \n",
      " 20  reviews per month               102599 non-null  float64\n",
      " 21  review rate number              102599 non-null  float64\n",
      " 22  calculated host listings count  102599 non-null  float64\n",
      " 23  availability 365                102599 non-null  float64\n",
      " 24  house_rules                     102599 non-null  object \n",
      "dtypes: float64(11), int64(2), object(12)\n",
      "memory usage: 19.6+ MB\n",
      "None\n",
      "               price    service fee\n",
      "count  102599.000000  102599.000000\n",
      "mean      625.290422     125.026852\n",
      "std       331.272137      66.237438\n",
      "min        50.000000      10.000000\n",
      "25%       341.000000      68.000000\n",
      "50%       624.000000     125.000000\n",
      "75%       912.000000     182.000000\n",
      "max      1200.000000     240.000000\n"
     ]
    }
   ],
   "source": [
    "print(df.info())\n",
    "print(df[[\"price\", \"service fee\"]].describe())\n"
   ]
  },
  {
   "cell_type": "code",
   "execution_count": 19,
   "id": "18160033-26a9-4835-aba8-22d339331bd5",
   "metadata": {},
   "outputs": [
    {
     "name": "stdout",
     "output_type": "stream",
     "text": [
      "<class 'pandas.core.frame.DataFrame'>\n",
      "RangeIndex: 102599 entries, 0 to 102598\n",
      "Data columns (total 25 columns):\n",
      " #   Column                          Non-Null Count   Dtype  \n",
      "---  ------                          --------------   -----  \n",
      " 0   id                              102599 non-null  int64  \n",
      " 1   NAME                            102349 non-null  object \n",
      " 2   host id                         102599 non-null  int64  \n",
      " 3   host_identity_verified          102310 non-null  object \n",
      " 4   host name                       102599 non-null  object \n",
      " 5   neighbourhood group             102599 non-null  object \n",
      " 6   neighbourhood                   102583 non-null  object \n",
      " 7   lat                             102599 non-null  float64\n",
      " 8   long                            102599 non-null  float64\n",
      " 9   country                         102599 non-null  object \n",
      " 10  country code                    102468 non-null  object \n",
      " 11  instant_bookable                102494 non-null  object \n",
      " 12  cancellation_policy             102523 non-null  object \n",
      " 13  room type                       102599 non-null  object \n",
      " 14  Construction year               102599 non-null  float64\n",
      " 15  price                           102599 non-null  float64\n",
      " 16  service fee                     102599 non-null  float64\n",
      " 17  minimum nights                  102599 non-null  float64\n",
      " 18  number of reviews               102599 non-null  float64\n",
      " 19  last review                     86706 non-null   object \n",
      " 20  reviews per month               102599 non-null  float64\n",
      " 21  review rate number              102599 non-null  float64\n",
      " 22  calculated host listings count  102599 non-null  float64\n",
      " 23  availability 365                102599 non-null  float64\n",
      " 24  house_rules                     102599 non-null  object \n",
      "dtypes: float64(11), int64(2), object(12)\n",
      "memory usage: 19.6+ MB\n",
      "None\n",
      "               price    service fee\n",
      "count  102599.000000  102599.000000\n",
      "mean      625.290422     125.026852\n",
      "std       331.272137      66.237438\n",
      "min        50.000000      10.000000\n",
      "25%       341.000000      68.000000\n",
      "50%       624.000000     125.000000\n",
      "75%       912.000000     182.000000\n",
      "max      1200.000000     240.000000\n"
     ]
    }
   ],
   "source": [
    "print(df.info())\n",
    "print(df[[\"price\", \"service fee\"]].describe())\n"
   ]
  },
  {
   "cell_type": "code",
   "execution_count": 20,
   "id": "ec553ff8-20c3-45f3-8b7c-49b9a9c52c0b",
   "metadata": {},
   "outputs": [
    {
     "data": {
      "image/png": "[encoded data removed]",
      "text/plain": [
       "<Figure size 1000x500 with 1 Axes>"
      ]
     },
     "metadata": {},
     "output_type": "display_data"
    }
   ],
   "source": [
    "import seaborn as sns\n",
    "import matplotlib.pyplot as plt\n",
    "\n",
    "plt.figure(figsize=(10,5))\n",
    "sns.boxplot(x=df[\"price\"])\n",
    "plt.title(\"Price Distribution\")\n",
    "plt.show()\n"
   ]
  },
  {
   "cell_type": "code",
   "execution_count": 21,
   "id": "0ecc88cd-f943-4f6b-8cdb-456826de9c80",
   "metadata": {},
   "outputs": [],
   "source": [
    "df = df[df[\"price\"] < 2000]  # Adjust threshold based on boxplot\n"
   ]
  },
  {
   "cell_type": "code",
   "execution_count": 22,
   "id": "4af9a1db-3f07-424c-8a9c-c3b35767f605",
   "metadata": {},
   "outputs": [
    {
     "name": "stdout",
     "output_type": "stream",
     "text": [
      "NAME: 61281 unique values\n",
      "host_identity_verified: 2 unique values\n",
      "host name: 13191 unique values\n",
      "neighbourhood group: 8 unique values\n",
      "neighbourhood: 224 unique values\n",
      "country: 2 unique values\n",
      "country code: 1 unique values\n",
      "instant_bookable: 2 unique values\n",
      "cancellation_policy: 3 unique values\n",
      "room type: 4 unique values\n",
      "last review: 2477 unique values\n",
      "house_rules: 1977 unique values\n"
     ]
    }
   ],
   "source": [
    "for col in df.select_dtypes(include=[\"object\"]).columns:\n",
    "    print(f\"{col}: {df[col].nunique()} unique values\")\n"
   ]
  },
  {
   "cell_type": "code",
   "execution_count": 23,
   "id": "2ac28871-17cb-4322-b871-fe4b09b9470a",
   "metadata": {},
   "outputs": [],
   "source": [
    "df.to_csv(\"cleaned_airbnb_data.csv\", index=False)\n"
   ]
  },
  {
   "cell_type": "code",
   "execution_count": 24,
   "id": "a4e01e6b-a021-4427-9d4f-63708b8df625",
   "metadata": {},
   "outputs": [
    {
     "data": {
      "text/html": [
       "<div>\n",
       "<style scoped>\n",
       "    .dataframe tbody tr th:only-of-type {\n",
       "        vertical-align: middle;\n",
       "    }\n",
       "\n",
       "    .dataframe tbody tr th {\n",
       "        vertical-align: top;\n",
       "    }\n",
       "\n",
       "    .dataframe thead th {\n",
       "        text-align: right;\n",
       "    }\n",
       "</style>\n",
       "<table border=\"1\" class=\"dataframe\">\n",
       "  <thead>\n",
       "    <tr style=\"text-align: right;\">\n",
       "      <th></th>\n",
       "      <th>id</th>\n",
       "      <th>NAME</th>\n",
       "      <th>host id</th>\n",
       "      <th>host_identity_verified</th>\n",
       "      <th>host name</th>\n",
       "      <th>neighbourhood group</th>\n",
       "      <th>neighbourhood</th>\n",
       "      <th>lat</th>\n",
       "      <th>long</th>\n",
       "      <th>country</th>\n",
       "      <th>...</th>\n",
       "      <th>price</th>\n",
       "      <th>service fee</th>\n",
       "      <th>minimum nights</th>\n",
       "      <th>number of reviews</th>\n",
       "      <th>last review</th>\n",
       "      <th>reviews per month</th>\n",
       "      <th>review rate number</th>\n",
       "      <th>calculated host listings count</th>\n",
       "      <th>availability 365</th>\n",
       "      <th>house_rules</th>\n",
       "    </tr>\n",
       "  </thead>\n",
       "  <tbody>\n",
       "    <tr>\n",
       "      <th>0</th>\n",
       "      <td>1001254</td>\n",
       "      <td>Clean &amp; quiet apt home by the park</td>\n",
       "      <td>80014485718</td>\n",
       "      <td>unconfirmed</td>\n",
       "      <td>Madaline</td>\n",
       "      <td>Brooklyn</td>\n",
       "      <td>Kensington</td>\n",
       "      <td>40.64749</td>\n",
       "      <td>-73.97237</td>\n",
       "      <td>United States</td>\n",
       "      <td>...</td>\n",
       "      <td>966.0</td>\n",
       "      <td>193.0</td>\n",
       "      <td>10.0</td>\n",
       "      <td>9.0</td>\n",
       "      <td>10/19/2021</td>\n",
       "      <td>0.21</td>\n",
       "      <td>4.0</td>\n",
       "      <td>6.0</td>\n",
       "      <td>286.0</td>\n",
       "      <td>Clean up and treat the home the way you'd like...</td>\n",
       "    </tr>\n",
       "    <tr>\n",
       "      <th>1</th>\n",
       "      <td>1002102</td>\n",
       "      <td>Skylit Midtown Castle</td>\n",
       "      <td>52335172823</td>\n",
       "      <td>verified</td>\n",
       "      <td>Jenna</td>\n",
       "      <td>Manhattan</td>\n",
       "      <td>Midtown</td>\n",
       "      <td>40.75362</td>\n",
       "      <td>-73.98377</td>\n",
       "      <td>United States</td>\n",
       "      <td>...</td>\n",
       "      <td>142.0</td>\n",
       "      <td>28.0</td>\n",
       "      <td>30.0</td>\n",
       "      <td>45.0</td>\n",
       "      <td>5/21/2022</td>\n",
       "      <td>0.38</td>\n",
       "      <td>4.0</td>\n",
       "      <td>2.0</td>\n",
       "      <td>228.0</td>\n",
       "      <td>Pet friendly but please confirm with me if the...</td>\n",
       "    </tr>\n",
       "    <tr>\n",
       "      <th>2</th>\n",
       "      <td>1002403</td>\n",
       "      <td>THE VILLAGE OF HARLEM....NEW YORK !</td>\n",
       "      <td>78829239556</td>\n",
       "      <td>NaN</td>\n",
       "      <td>Elise</td>\n",
       "      <td>Manhattan</td>\n",
       "      <td>Harlem</td>\n",
       "      <td>40.80902</td>\n",
       "      <td>-73.94190</td>\n",
       "      <td>United States</td>\n",
       "      <td>...</td>\n",
       "      <td>620.0</td>\n",
       "      <td>124.0</td>\n",
       "      <td>3.0</td>\n",
       "      <td>0.0</td>\n",
       "      <td>NaN</td>\n",
       "      <td>0.74</td>\n",
       "      <td>5.0</td>\n",
       "      <td>1.0</td>\n",
       "      <td>352.0</td>\n",
       "      <td>I encourage you to use my kitchen, cooking and...</td>\n",
       "    </tr>\n",
       "    <tr>\n",
       "      <th>3</th>\n",
       "      <td>1002755</td>\n",
       "      <td>NaN</td>\n",
       "      <td>85098326012</td>\n",
       "      <td>unconfirmed</td>\n",
       "      <td>Garry</td>\n",
       "      <td>Brooklyn</td>\n",
       "      <td>Clinton Hill</td>\n",
       "      <td>40.68514</td>\n",
       "      <td>-73.95976</td>\n",
       "      <td>United States</td>\n",
       "      <td>...</td>\n",
       "      <td>368.0</td>\n",
       "      <td>74.0</td>\n",
       "      <td>30.0</td>\n",
       "      <td>270.0</td>\n",
       "      <td>07-05-2019</td>\n",
       "      <td>4.64</td>\n",
       "      <td>4.0</td>\n",
       "      <td>1.0</td>\n",
       "      <td>322.0</td>\n",
       "      <td>Unknown</td>\n",
       "    </tr>\n",
       "    <tr>\n",
       "      <th>4</th>\n",
       "      <td>1003689</td>\n",
       "      <td>Entire Apt: Spacious Studio/Loft by central park</td>\n",
       "      <td>92037596077</td>\n",
       "      <td>verified</td>\n",
       "      <td>Lyndon</td>\n",
       "      <td>Manhattan</td>\n",
       "      <td>East Harlem</td>\n",
       "      <td>40.79851</td>\n",
       "      <td>-73.94399</td>\n",
       "      <td>United States</td>\n",
       "      <td>...</td>\n",
       "      <td>204.0</td>\n",
       "      <td>41.0</td>\n",
       "      <td>10.0</td>\n",
       "      <td>9.0</td>\n",
       "      <td>11/19/2018</td>\n",
       "      <td>0.10</td>\n",
       "      <td>3.0</td>\n",
       "      <td>1.0</td>\n",
       "      <td>289.0</td>\n",
       "      <td>Please no smoking in the house, porch or on th...</td>\n",
       "    </tr>\n",
       "  </tbody>\n",
       "</table>\n",
       "<p>5 rows × 25 columns</p>\n",
       "</div>"
      ],
      "text/plain": [
       "        id                                              NAME      host id  \\\n",
       "0  1001254                Clean & quiet apt home by the park  80014485718   \n",
       "1  1002102                             Skylit Midtown Castle  52335172823   \n",
       "2  1002403               THE VILLAGE OF HARLEM....NEW YORK !  78829239556   \n",
       "3  1002755                                               NaN  85098326012   \n",
       "4  1003689  Entire Apt: Spacious Studio/Loft by central park  92037596077   \n",
       "\n",
       "  host_identity_verified host name neighbourhood group neighbourhood  \\\n",
       "0            unconfirmed  Madaline            Brooklyn    Kensington   \n",
       "1               verified     Jenna           Manhattan       Midtown   \n",
       "2                    NaN     Elise           Manhattan        Harlem   \n",
       "3            unconfirmed     Garry            Brooklyn  Clinton Hill   \n",
       "4               verified    Lyndon           Manhattan   East Harlem   \n",
       "\n",
       "        lat      long        country  ...  price service fee minimum nights  \\\n",
       "0  40.64749 -73.97237  United States  ...  966.0       193.0           10.0   \n",
       "1  40.75362 -73.98377  United States  ...  142.0        28.0           30.0   \n",
       "2  40.80902 -73.94190  United States  ...  620.0       124.0            3.0   \n",
       "3  40.68514 -73.95976  United States  ...  368.0        74.0           30.0   \n",
       "4  40.79851 -73.94399  United States  ...  204.0        41.0           10.0   \n",
       "\n",
       "  number of reviews  last review  reviews per month  review rate number  \\\n",
       "0               9.0   10/19/2021               0.21                 4.0   \n",
       "1              45.0    5/21/2022               0.38                 4.0   \n",
       "2               0.0          NaN               0.74                 5.0   \n",
       "3             270.0   07-05-2019               4.64                 4.0   \n",
       "4               9.0   11/19/2018               0.10                 3.0   \n",
       "\n",
       "   calculated host listings count  availability 365  \\\n",
       "0                             6.0             286.0   \n",
       "1                             2.0             228.0   \n",
       "2                             1.0             352.0   \n",
       "3                             1.0             322.0   \n",
       "4                             1.0             289.0   \n",
       "\n",
       "                                         house_rules  \n",
       "0  Clean up and treat the home the way you'd like...  \n",
       "1  Pet friendly but please confirm with me if the...  \n",
       "2  I encourage you to use my kitchen, cooking and...  \n",
       "3                                            Unknown  \n",
       "4  Please no smoking in the house, porch or on th...  \n",
       "\n",
       "[5 rows x 25 columns]"
      ]
     },
     "execution_count": 24,
     "metadata": {},
     "output_type": "execute_result"
    }
   ],
   "source": [
    "df.head()"
   ]
  },
  {
   "cell_type": "code",
   "execution_count": 25,
   "id": "a421408c-ab0a-4c22-b2ff-e5c818b58ec3",
   "metadata": {},
   "outputs": [
    {
     "data": {
      "text/plain": [
       "Index(['id', 'NAME', 'host id', 'host_identity_verified', 'host name',\n",
       "       'neighbourhood group', 'neighbourhood', 'lat', 'long', 'country',\n",
       "       'country code', 'instant_bookable', 'cancellation_policy', 'room type',\n",
       "       'Construction year', 'price', 'service fee', 'minimum nights',\n",
       "       'number of reviews', 'last review', 'reviews per month',\n",
       "       'review rate number', 'calculated host listings count',\n",
       "       'availability 365', 'house_rules'],\n",
       "      dtype='object')"
      ]
     },
     "execution_count": 25,
     "metadata": {},
     "output_type": "execute_result"
    }
   ],
   "source": [
    "df.columns"
   ]
  },
  {
   "cell_type": "code",
   "execution_count": 26,
   "id": "01608895-5012-4b09-a6eb-73dcceba7885",
   "metadata": {},
   "outputs": [],
   "source": [
    "# Checking missing values"
   ]
  },
  {
   "cell_type": "markdown",
   "id": "c415efd8-8f95-41be-91b5-4efe353e8d91",
   "metadata": {},
   "source": [
    "# Checking missing values"
   ]
  },
  {
   "cell_type": "code",
   "execution_count": 27,
   "id": "5d8ffb06-e2ef-4080-8617-3bd0be67ec28",
   "metadata": {},
   "outputs": [
    {
     "name": "stdout",
     "output_type": "stream",
     "text": [
      "id                                    0\n",
      "NAME                                250\n",
      "host id                               0\n",
      "host_identity_verified              289\n",
      "host name                             0\n",
      "neighbourhood group                   0\n",
      "neighbourhood                        16\n",
      "lat                                   0\n",
      "long                                  0\n",
      "country                               0\n",
      "country code                        131\n",
      "instant_bookable                    105\n",
      "cancellation_policy                  76\n",
      "room type                             0\n",
      "Construction year                     0\n",
      "price                                 0\n",
      "service fee                           0\n",
      "minimum nights                        0\n",
      "number of reviews                     0\n",
      "last review                       15893\n",
      "reviews per month                     0\n",
      "review rate number                    0\n",
      "calculated host listings count        0\n",
      "availability 365                      0\n",
      "house_rules                           0\n",
      "dtype: int64\n"
     ]
    }
   ],
   "source": [
    "print(df.isnull().sum())"
   ]
  },
  {
   "cell_type": "code",
   "execution_count": 28,
   "id": "6c3e0b1b-80ae-4cf3-a3df-8b7ea972f193",
   "metadata": {},
   "outputs": [
    {
     "data": {
      "text/plain": [
       "<bound method DataFrame.info of              id                                              NAME  \\\n",
       "0       1001254                Clean & quiet apt home by the park   \n",
       "1       1002102                             Skylit Midtown Castle   \n",
       "2       1002403               THE VILLAGE OF HARLEM....NEW YORK !   \n",
       "3       1002755                                               NaN   \n",
       "4       1003689  Entire Apt: Spacious Studio/Loft by central park   \n",
       "...         ...                                               ...   \n",
       "102594  6092437                        Spare room in Williamsburg   \n",
       "102595  6092990                     Best Location near Columbia U   \n",
       "102596  6093542                    Comfy, bright room in Brooklyn   \n",
       "102597  6094094                  Big Studio-One Stop from Midtown   \n",
       "102598  6094647                              585 sf Luxury Studio   \n",
       "\n",
       "            host id host_identity_verified    host name neighbourhood group  \\\n",
       "0       80014485718            unconfirmed     Madaline            Brooklyn   \n",
       "1       52335172823               verified        Jenna           Manhattan   \n",
       "2       78829239556                    NaN        Elise           Manhattan   \n",
       "3       85098326012            unconfirmed        Garry            Brooklyn   \n",
       "4       92037596077               verified       Lyndon           Manhattan   \n",
       "...             ...                    ...          ...                 ...   \n",
       "102594  12312296767               verified         Krik            Brooklyn   \n",
       "102595  77864383453            unconfirmed        Mifan           Manhattan   \n",
       "102596  69050334417            unconfirmed        Megan            Brooklyn   \n",
       "102597  11160591270            unconfirmed  Christopher              Queens   \n",
       "102598  68170633372            unconfirmed      Rebecca           Manhattan   \n",
       "\n",
       "              neighbourhood       lat      long        country  ...   price  \\\n",
       "0                Kensington  40.64749 -73.97237  United States  ...   966.0   \n",
       "1                   Midtown  40.75362 -73.98377  United States  ...   142.0   \n",
       "2                    Harlem  40.80902 -73.94190  United States  ...   620.0   \n",
       "3              Clinton Hill  40.68514 -73.95976  United States  ...   368.0   \n",
       "4               East Harlem  40.79851 -73.94399  United States  ...   204.0   \n",
       "...                     ...       ...       ...            ...  ...     ...   \n",
       "102594         Williamsburg  40.70862 -73.94651  United States  ...   844.0   \n",
       "102595  Morningside Heights  40.80460 -73.96545  United States  ...   837.0   \n",
       "102596           Park Slope  40.67505 -73.98045  United States  ...   988.0   \n",
       "102597     Long Island City  40.74989 -73.93777  United States  ...   546.0   \n",
       "102598      Upper West Side  40.76807 -73.98342  United States  ...  1032.0   \n",
       "\n",
       "       service fee minimum nights number of reviews  last review  \\\n",
       "0            193.0           10.0               9.0   10/19/2021   \n",
       "1             28.0           30.0              45.0    5/21/2022   \n",
       "2            124.0            3.0               0.0          NaN   \n",
       "3             74.0           30.0             270.0   07-05-2019   \n",
       "4             41.0           10.0               9.0   11/19/2018   \n",
       "...            ...            ...               ...          ...   \n",
       "102594       169.0            1.0               0.0          NaN   \n",
       "102595       167.0            1.0               1.0   07-06-2015   \n",
       "102596       198.0            3.0               0.0          NaN   \n",
       "102597       109.0            2.0               5.0   10-11-2015   \n",
       "102598       206.0            1.0               0.0          NaN   \n",
       "\n",
       "        reviews per month  review rate number  calculated host listings count  \\\n",
       "0                    0.21                 4.0                             6.0   \n",
       "1                    0.38                 4.0                             2.0   \n",
       "2                    0.74                 5.0                             1.0   \n",
       "3                    4.64                 4.0                             1.0   \n",
       "4                    0.10                 3.0                             1.0   \n",
       "...                   ...                 ...                             ...   \n",
       "102594               0.74                 3.0                             1.0   \n",
       "102595               0.02                 2.0                             2.0   \n",
       "102596               0.74                 5.0                             1.0   \n",
       "102597               0.10                 3.0                             1.0   \n",
       "102598               0.74                 3.0                             1.0   \n",
       "\n",
       "        availability 365                                        house_rules  \n",
       "0                  286.0  Clean up and treat the home the way you'd like...  \n",
       "1                  228.0  Pet friendly but please confirm with me if the...  \n",
       "2                  352.0  I encourage you to use my kitchen, cooking and...  \n",
       "3                  322.0                                            Unknown  \n",
       "4                  289.0  Please no smoking in the house, porch or on th...  \n",
       "...                  ...                                                ...  \n",
       "102594             227.0  No Smoking No Parties or Events of any kind Pl...  \n",
       "102595             395.0  House rules: Guests agree to the following ter...  \n",
       "102596             342.0                                            Unknown  \n",
       "102597             386.0                                            Unknown  \n",
       "102598              69.0                                            Unknown  \n",
       "\n",
       "[102599 rows x 25 columns]>"
      ]
     },
     "execution_count": 28,
     "metadata": {},
     "output_type": "execute_result"
    }
   ],
   "source": [
    "df.info"
   ]
  },
  {
   "cell_type": "markdown",
   "id": "b67d794b-7bbf-452e-a699-8e3ba27b95d8",
   "metadata": {},
   "source": [
    "# handling missing values"
   ]
  },
  {
   "cell_type": "code",
   "execution_count": 29,
   "id": "f4eb11de-f23d-45da-a2c2-f984a4e75eee",
   "metadata": {},
   "outputs": [
    {
     "ename": "_IncompleteInputError",
     "evalue": "incomplete input (4069672382.py, line 1)",
     "output_type": "error",
     "traceback": [
      "  \u001b[36mCell\u001b[39m\u001b[36m \u001b[39m\u001b[32mIn[29]\u001b[39m\u001b[32m, line 1\u001b[39m\n\u001b[31m    \u001b[39m\u001b[31mdf['last review'] = pd.to_datetime(df['last review'], errors = 'coerce)'\u001b[39m\n                                                                            ^\n\u001b[31m_IncompleteInputError\u001b[39m\u001b[31m:\u001b[39m incomplete input\n"
     ]
    }
   ],
   "source": [
    "df['last review'] = pd.to_datetime(df['last review'], errors = 'coerce)'"
   ]
  },
  {
   "cell_type": "code",
   "execution_count": 30,
   "id": "28441d7a-857c-4c6d-b15a-dc30544a6bbc",
   "metadata": {},
   "outputs": [],
   "source": [
    "df['last review'] = pd.to_datetime(df['last review'], errors='coerce')\n"
   ]
  },
  {
   "cell_type": "code",
   "execution_count": 31,
   "id": "185fe75d-5915-4f1c-aa00-0ef33d7a7133",
   "metadata": {},
   "outputs": [
    {
     "ename": "NameError",
     "evalue": "name 'info' is not defined",
     "output_type": "error",
     "traceback": [
      "\u001b[31m---------------------------------------------------------------------------\u001b[39m",
      "\u001b[31mNameError\u001b[39m                                 Traceback (most recent call last)",
      "\u001b[36mCell\u001b[39m\u001b[36m \u001b[39m\u001b[32mIn[31]\u001b[39m\u001b[32m, line 1\u001b[39m\n\u001b[32m----> \u001b[39m\u001b[32m1\u001b[39m df=\u001b[43minfo\u001b[49m\n",
      "\u001b[31mNameError\u001b[39m: name 'info' is not defined"
     ]
    }
   ],
   "source": [
    "df=info"
   ]
  },
  {
   "cell_type": "code",
   "execution_count": 32,
   "id": "8e098976-f3cb-4f8e-a82a-0bb065f21541",
   "metadata": {},
   "outputs": [
    {
     "data": {
      "text/plain": [
       "<bound method DataFrame.info of              id                                              NAME  \\\n",
       "0       1001254                Clean & quiet apt home by the park   \n",
       "1       1002102                             Skylit Midtown Castle   \n",
       "2       1002403               THE VILLAGE OF HARLEM....NEW YORK !   \n",
       "3       1002755                                               NaN   \n",
       "4       1003689  Entire Apt: Spacious Studio/Loft by central park   \n",
       "...         ...                                               ...   \n",
       "102594  6092437                        Spare room in Williamsburg   \n",
       "102595  6092990                     Best Location near Columbia U   \n",
       "102596  6093542                    Comfy, bright room in Brooklyn   \n",
       "102597  6094094                  Big Studio-One Stop from Midtown   \n",
       "102598  6094647                              585 sf Luxury Studio   \n",
       "\n",
       "            host id host_identity_verified    host name neighbourhood group  \\\n",
       "0       80014485718            unconfirmed     Madaline            Brooklyn   \n",
       "1       52335172823               verified        Jenna           Manhattan   \n",
       "2       78829239556                    NaN        Elise           Manhattan   \n",
       "3       85098326012            unconfirmed        Garry            Brooklyn   \n",
       "4       92037596077               verified       Lyndon           Manhattan   \n",
       "...             ...                    ...          ...                 ...   \n",
       "102594  12312296767               verified         Krik            Brooklyn   \n",
       "102595  77864383453            unconfirmed        Mifan           Manhattan   \n",
       "102596  69050334417            unconfirmed        Megan            Brooklyn   \n",
       "102597  11160591270            unconfirmed  Christopher              Queens   \n",
       "102598  68170633372            unconfirmed      Rebecca           Manhattan   \n",
       "\n",
       "              neighbourhood       lat      long        country  ...   price  \\\n",
       "0                Kensington  40.64749 -73.97237  United States  ...   966.0   \n",
       "1                   Midtown  40.75362 -73.98377  United States  ...   142.0   \n",
       "2                    Harlem  40.80902 -73.94190  United States  ...   620.0   \n",
       "3              Clinton Hill  40.68514 -73.95976  United States  ...   368.0   \n",
       "4               East Harlem  40.79851 -73.94399  United States  ...   204.0   \n",
       "...                     ...       ...       ...            ...  ...     ...   \n",
       "102594         Williamsburg  40.70862 -73.94651  United States  ...   844.0   \n",
       "102595  Morningside Heights  40.80460 -73.96545  United States  ...   837.0   \n",
       "102596           Park Slope  40.67505 -73.98045  United States  ...   988.0   \n",
       "102597     Long Island City  40.74989 -73.93777  United States  ...   546.0   \n",
       "102598      Upper West Side  40.76807 -73.98342  United States  ...  1032.0   \n",
       "\n",
       "       service fee minimum nights number of reviews  last review  \\\n",
       "0            193.0           10.0               9.0   2021-10-19   \n",
       "1             28.0           30.0              45.0   2022-05-21   \n",
       "2            124.0            3.0               0.0          NaT   \n",
       "3             74.0           30.0             270.0          NaT   \n",
       "4             41.0           10.0               9.0   2018-11-19   \n",
       "...            ...            ...               ...          ...   \n",
       "102594       169.0            1.0               0.0          NaT   \n",
       "102595       167.0            1.0               1.0          NaT   \n",
       "102596       198.0            3.0               0.0          NaT   \n",
       "102597       109.0            2.0               5.0          NaT   \n",
       "102598       206.0            1.0               0.0          NaT   \n",
       "\n",
       "        reviews per month  review rate number  calculated host listings count  \\\n",
       "0                    0.21                 4.0                             6.0   \n",
       "1                    0.38                 4.0                             2.0   \n",
       "2                    0.74                 5.0                             1.0   \n",
       "3                    4.64                 4.0                             1.0   \n",
       "4                    0.10                 3.0                             1.0   \n",
       "...                   ...                 ...                             ...   \n",
       "102594               0.74                 3.0                             1.0   \n",
       "102595               0.02                 2.0                             2.0   \n",
       "102596               0.74                 5.0                             1.0   \n",
       "102597               0.10                 3.0                             1.0   \n",
       "102598               0.74                 3.0                             1.0   \n",
       "\n",
       "        availability 365                                        house_rules  \n",
       "0                  286.0  Clean up and treat the home the way you'd like...  \n",
       "1                  228.0  Pet friendly but please confirm with me if the...  \n",
       "2                  352.0  I encourage you to use my kitchen, cooking and...  \n",
       "3                  322.0                                            Unknown  \n",
       "4                  289.0  Please no smoking in the house, porch or on th...  \n",
       "...                  ...                                                ...  \n",
       "102594             227.0  No Smoking No Parties or Events of any kind Pl...  \n",
       "102595             395.0  House rules: Guests agree to the following ter...  \n",
       "102596             342.0                                            Unknown  \n",
       "102597             386.0                                            Unknown  \n",
       "102598              69.0                                            Unknown  \n",
       "\n",
       "[102599 rows x 25 columns]>"
      ]
     },
     "execution_count": 32,
     "metadata": {},
     "output_type": "execute_result"
    }
   ],
   "source": [
    "df.info"
   ]
  },
  {
   "cell_type": "markdown",
   "id": "fff44b84-f16a-465f-9a08-d8713eb03096",
   "metadata": {},
   "source": [
    "# Descriptive Statistics"
   ]
  },
  {
   "cell_type": "code",
   "execution_count": 40,
   "id": "4ca94328-fae2-422c-aed1-a3647f7cf410",
   "metadata": {},
   "outputs": [
    {
     "data": {
      "text/html": [
       "<div>\n",
       "<style scoped>\n",
       "    .dataframe tbody tr th:only-of-type {\n",
       "        vertical-align: middle;\n",
       "    }\n",
       "\n",
       "    .dataframe tbody tr th {\n",
       "        vertical-align: top;\n",
       "    }\n",
       "\n",
       "    .dataframe thead th {\n",
       "        text-align: right;\n",
       "    }\n",
       "</style>\n",
       "<table border=\"1\" class=\"dataframe\">\n",
       "  <thead>\n",
       "    <tr style=\"text-align: right;\">\n",
       "      <th></th>\n",
       "      <th>id</th>\n",
       "      <th>host id</th>\n",
       "      <th>lat</th>\n",
       "      <th>long</th>\n",
       "      <th>Construction year</th>\n",
       "      <th>price</th>\n",
       "      <th>service fee</th>\n",
       "      <th>minimum nights</th>\n",
       "      <th>number of reviews</th>\n",
       "      <th>last review</th>\n",
       "      <th>reviews per month</th>\n",
       "      <th>review rate number</th>\n",
       "      <th>calculated host listings count</th>\n",
       "      <th>availability 365</th>\n",
       "    </tr>\n",
       "  </thead>\n",
       "  <tbody>\n",
       "    <tr>\n",
       "      <th>count</th>\n",
       "      <td>1.018080e+05</td>\n",
       "      <td>1.018080e+05</td>\n",
       "      <td>101808.000000</td>\n",
       "      <td>101808.000000</td>\n",
       "      <td>101808.000000</td>\n",
       "      <td>101808.000000</td>\n",
       "      <td>101808.000000</td>\n",
       "      <td>101808.000000</td>\n",
       "      <td>101808.000000</td>\n",
       "      <td>101808</td>\n",
       "      <td>101808.000000</td>\n",
       "      <td>101808.000000</td>\n",
       "      <td>101808.000000</td>\n",
       "      <td>101808.000000</td>\n",
       "    </tr>\n",
       "    <tr>\n",
       "      <th>mean</th>\n",
       "      <td>2.920168e+07</td>\n",
       "      <td>4.926430e+10</td>\n",
       "      <td>40.728084</td>\n",
       "      <td>-73.949658</td>\n",
       "      <td>2012.488606</td>\n",
       "      <td>625.371719</td>\n",
       "      <td>125.042855</td>\n",
       "      <td>8.088775</td>\n",
       "      <td>27.452312</td>\n",
       "      <td>2016-02-19 20:28:02.885431296</td>\n",
       "      <td>1.276862</td>\n",
       "      <td>3.277984</td>\n",
       "      <td>7.920360</td>\n",
       "      <td>140.871985</td>\n",
       "    </tr>\n",
       "    <tr>\n",
       "      <th>min</th>\n",
       "      <td>1.001254e+06</td>\n",
       "      <td>1.236005e+08</td>\n",
       "      <td>40.499790</td>\n",
       "      <td>-74.249840</td>\n",
       "      <td>2003.000000</td>\n",
       "      <td>50.000000</td>\n",
       "      <td>10.000000</td>\n",
       "      <td>-1223.000000</td>\n",
       "      <td>0.000000</td>\n",
       "      <td>2012-08-25 00:00:00</td>\n",
       "      <td>0.010000</td>\n",
       "      <td>1.000000</td>\n",
       "      <td>1.000000</td>\n",
       "      <td>-10.000000</td>\n",
       "    </tr>\n",
       "    <tr>\n",
       "      <th>25%</th>\n",
       "      <td>1.510860e+07</td>\n",
       "      <td>2.459939e+10</td>\n",
       "      <td>40.688720</td>\n",
       "      <td>-73.982580</td>\n",
       "      <td>2008.000000</td>\n",
       "      <td>341.000000</td>\n",
       "      <td>68.000000</td>\n",
       "      <td>2.000000</td>\n",
       "      <td>1.000000</td>\n",
       "      <td>2012-08-25 00:00:00</td>\n",
       "      <td>0.280000</td>\n",
       "      <td>2.000000</td>\n",
       "      <td>1.000000</td>\n",
       "      <td>3.000000</td>\n",
       "    </tr>\n",
       "    <tr>\n",
       "      <th>50%</th>\n",
       "      <td>2.920868e+07</td>\n",
       "      <td>4.912780e+10</td>\n",
       "      <td>40.722290</td>\n",
       "      <td>-73.954440</td>\n",
       "      <td>2012.000000</td>\n",
       "      <td>624.000000</td>\n",
       "      <td>125.000000</td>\n",
       "      <td>3.000000</td>\n",
       "      <td>7.000000</td>\n",
       "      <td>2015-11-29 00:00:00</td>\n",
       "      <td>0.740000</td>\n",
       "      <td>3.000000</td>\n",
       "      <td>1.000000</td>\n",
       "      <td>96.000000</td>\n",
       "    </tr>\n",
       "    <tr>\n",
       "      <th>75%</th>\n",
       "      <td>4.329329e+07</td>\n",
       "      <td>7.399769e+10</td>\n",
       "      <td>40.762760</td>\n",
       "      <td>-73.932350</td>\n",
       "      <td>2017.000000</td>\n",
       "      <td>912.000000</td>\n",
       "      <td>182.000000</td>\n",
       "      <td>5.000000</td>\n",
       "      <td>30.000000</td>\n",
       "      <td>2019-06-17 00:00:00</td>\n",
       "      <td>1.710000</td>\n",
       "      <td>4.000000</td>\n",
       "      <td>2.000000</td>\n",
       "      <td>268.000000</td>\n",
       "    </tr>\n",
       "    <tr>\n",
       "      <th>max</th>\n",
       "      <td>5.736742e+07</td>\n",
       "      <td>9.876313e+10</td>\n",
       "      <td>40.916970</td>\n",
       "      <td>-73.705220</td>\n",
       "      <td>2022.000000</td>\n",
       "      <td>1200.000000</td>\n",
       "      <td>240.000000</td>\n",
       "      <td>5645.000000</td>\n",
       "      <td>1024.000000</td>\n",
       "      <td>2058-06-16 00:00:00</td>\n",
       "      <td>90.000000</td>\n",
       "      <td>5.000000</td>\n",
       "      <td>332.000000</td>\n",
       "      <td>3677.000000</td>\n",
       "    </tr>\n",
       "    <tr>\n",
       "      <th>std</th>\n",
       "      <td>1.626700e+07</td>\n",
       "      <td>2.853580e+10</td>\n",
       "      <td>0.055854</td>\n",
       "      <td>0.049503</td>\n",
       "      <td>5.759752</td>\n",
       "      <td>331.214015</td>\n",
       "      <td>66.225063</td>\n",
       "      <td>30.268778</td>\n",
       "      <td>49.485057</td>\n",
       "      <td>NaN</td>\n",
       "      <td>1.623930</td>\n",
       "      <td>1.283178</td>\n",
       "      <td>32.228475</td>\n",
       "      <td>135.180437</td>\n",
       "    </tr>\n",
       "  </tbody>\n",
       "</table>\n",
       "</div>"
      ],
      "text/plain": [
       "                 id       host id            lat           long  \\\n",
       "count  1.018080e+05  1.018080e+05  101808.000000  101808.000000   \n",
       "mean   2.920168e+07  4.926430e+10      40.728084     -73.949658   \n",
       "min    1.001254e+06  1.236005e+08      40.499790     -74.249840   \n",
       "25%    1.510860e+07  2.459939e+10      40.688720     -73.982580   \n",
       "50%    2.920868e+07  4.912780e+10      40.722290     -73.954440   \n",
       "75%    4.329329e+07  7.399769e+10      40.762760     -73.932350   \n",
       "max    5.736742e+07  9.876313e+10      40.916970     -73.705220   \n",
       "std    1.626700e+07  2.853580e+10       0.055854       0.049503   \n",
       "\n",
       "       Construction year          price    service fee  minimum nights  \\\n",
       "count      101808.000000  101808.000000  101808.000000   101808.000000   \n",
       "mean         2012.488606     625.371719     125.042855        8.088775   \n",
       "min          2003.000000      50.000000      10.000000    -1223.000000   \n",
       "25%          2008.000000     341.000000      68.000000        2.000000   \n",
       "50%          2012.000000     624.000000     125.000000        3.000000   \n",
       "75%          2017.000000     912.000000     182.000000        5.000000   \n",
       "max          2022.000000    1200.000000     240.000000     5645.000000   \n",
       "std             5.759752     331.214015      66.225063       30.268778   \n",
       "\n",
       "       number of reviews                    last review  reviews per month  \\\n",
       "count      101808.000000                         101808      101808.000000   \n",
       "mean           27.452312  2016-02-19 20:28:02.885431296           1.276862   \n",
       "min             0.000000            2012-08-25 00:00:00           0.010000   \n",
       "25%             1.000000            2012-08-25 00:00:00           0.280000   \n",
       "50%             7.000000            2015-11-29 00:00:00           0.740000   \n",
       "75%            30.000000            2019-06-17 00:00:00           1.710000   \n",
       "max          1024.000000            2058-06-16 00:00:00          90.000000   \n",
       "std            49.485057                            NaN           1.623930   \n",
       "\n",
       "       review rate number  calculated host listings count  availability 365  \n",
       "count       101808.000000                   101808.000000     101808.000000  \n",
       "mean             3.277984                        7.920360        140.871985  \n",
       "min              1.000000                        1.000000        -10.000000  \n",
       "25%              2.000000                        1.000000          3.000000  \n",
       "50%              3.000000                        1.000000         96.000000  \n",
       "75%              4.000000                        2.000000        268.000000  \n",
       "max              5.000000                      332.000000       3677.000000  \n",
       "std              1.283178                       32.228475        135.180437  "
      ]
     },
     "execution_count": 40,
     "metadata": {},
     "output_type": "execute_result"
    }
   ],
   "source": [
    "df.describe()"
   ]
  },
  {
   "cell_type": "code",
   "execution_count": 33,
   "id": "52641f18-b957-4b18-be44-22cb7bfccec0",
   "metadata": {},
   "outputs": [],
   "source": [
    "df.fillna({'reviews per month' : 0,'last review' : df['last review'].min()}, inplace = True)"
   ]
  },
  {
   "cell_type": "code",
   "execution_count": 35,
   "id": "2f9b51a8-d8be-48e7-96bd-fd2e9895a159",
   "metadata": {},
   "outputs": [],
   "source": [
    "df.dropna(subset=['NAME', 'host name'], inplace=True)\n"
   ]
  },
  {
   "cell_type": "code",
   "execution_count": 36,
   "id": "48984f54-dfed-4fad-b195-7c9cf119f45d",
   "metadata": {},
   "outputs": [
    {
     "name": "stdout",
     "output_type": "stream",
     "text": [
      "id                                  0\n",
      "NAME                                0\n",
      "host id                             0\n",
      "host_identity_verified            277\n",
      "host name                           0\n",
      "neighbourhood group                 0\n",
      "neighbourhood                      16\n",
      "lat                                 0\n",
      "long                                0\n",
      "country                             0\n",
      "country code                      123\n",
      "instant_bookable                   97\n",
      "cancellation_policy                71\n",
      "room type                           0\n",
      "Construction year                   0\n",
      "price                               0\n",
      "service fee                         0\n",
      "minimum nights                      0\n",
      "number of reviews                   0\n",
      "last review                         0\n",
      "reviews per month                   0\n",
      "review rate number                  0\n",
      "calculated host listings count      0\n",
      "availability 365                    0\n",
      "house_rules                         0\n",
      "dtype: int64\n"
     ]
    }
   ],
   "source": [
    "print(df.isnull().sum())"
   ]
  },
  {
   "cell_type": "code",
   "execution_count": 37,
   "id": "e2d25ab8-1cc6-4f7f-90e7-773f8cdd0d02",
   "metadata": {},
   "outputs": [],
   "source": [
    "df = df.drop(columns=[\"house_rules\"], errors='ignore')"
   ]
  },
  {
   "cell_type": "code",
   "execution_count": 38,
   "id": "43753bec-49ed-4c89-a55b-6ef372be3b68",
   "metadata": {},
   "outputs": [
    {
     "data": {
      "text/html": [
       "<div>\n",
       "<style scoped>\n",
       "    .dataframe tbody tr th:only-of-type {\n",
       "        vertical-align: middle;\n",
       "    }\n",
       "\n",
       "    .dataframe tbody tr th {\n",
       "        vertical-align: top;\n",
       "    }\n",
       "\n",
       "    .dataframe thead th {\n",
       "        text-align: right;\n",
       "    }\n",
       "</style>\n",
       "<table border=\"1\" class=\"dataframe\">\n",
       "  <thead>\n",
       "    <tr style=\"text-align: right;\">\n",
       "      <th></th>\n",
       "      <th>id</th>\n",
       "      <th>NAME</th>\n",
       "      <th>host id</th>\n",
       "      <th>host_identity_verified</th>\n",
       "      <th>host name</th>\n",
       "      <th>neighbourhood group</th>\n",
       "      <th>neighbourhood</th>\n",
       "      <th>lat</th>\n",
       "      <th>long</th>\n",
       "      <th>country</th>\n",
       "      <th>...</th>\n",
       "      <th>Construction year</th>\n",
       "      <th>price</th>\n",
       "      <th>service fee</th>\n",
       "      <th>minimum nights</th>\n",
       "      <th>number of reviews</th>\n",
       "      <th>last review</th>\n",
       "      <th>reviews per month</th>\n",
       "      <th>review rate number</th>\n",
       "      <th>calculated host listings count</th>\n",
       "      <th>availability 365</th>\n",
       "    </tr>\n",
       "  </thead>\n",
       "  <tbody>\n",
       "    <tr>\n",
       "      <th>0</th>\n",
       "      <td>1001254</td>\n",
       "      <td>Clean &amp; quiet apt home by the park</td>\n",
       "      <td>80014485718</td>\n",
       "      <td>unconfirmed</td>\n",
       "      <td>Madaline</td>\n",
       "      <td>Brooklyn</td>\n",
       "      <td>Kensington</td>\n",
       "      <td>40.64749</td>\n",
       "      <td>-73.97237</td>\n",
       "      <td>United States</td>\n",
       "      <td>...</td>\n",
       "      <td>2020.0</td>\n",
       "      <td>966.0</td>\n",
       "      <td>193.0</td>\n",
       "      <td>10.0</td>\n",
       "      <td>9.0</td>\n",
       "      <td>2021-10-19</td>\n",
       "      <td>0.21</td>\n",
       "      <td>4.0</td>\n",
       "      <td>6.0</td>\n",
       "      <td>286.0</td>\n",
       "    </tr>\n",
       "    <tr>\n",
       "      <th>1</th>\n",
       "      <td>1002102</td>\n",
       "      <td>Skylit Midtown Castle</td>\n",
       "      <td>52335172823</td>\n",
       "      <td>verified</td>\n",
       "      <td>Jenna</td>\n",
       "      <td>Manhattan</td>\n",
       "      <td>Midtown</td>\n",
       "      <td>40.75362</td>\n",
       "      <td>-73.98377</td>\n",
       "      <td>United States</td>\n",
       "      <td>...</td>\n",
       "      <td>2007.0</td>\n",
       "      <td>142.0</td>\n",
       "      <td>28.0</td>\n",
       "      <td>30.0</td>\n",
       "      <td>45.0</td>\n",
       "      <td>2022-05-21</td>\n",
       "      <td>0.38</td>\n",
       "      <td>4.0</td>\n",
       "      <td>2.0</td>\n",
       "      <td>228.0</td>\n",
       "    </tr>\n",
       "    <tr>\n",
       "      <th>2</th>\n",
       "      <td>1002403</td>\n",
       "      <td>THE VILLAGE OF HARLEM....NEW YORK !</td>\n",
       "      <td>78829239556</td>\n",
       "      <td>NaN</td>\n",
       "      <td>Elise</td>\n",
       "      <td>Manhattan</td>\n",
       "      <td>Harlem</td>\n",
       "      <td>40.80902</td>\n",
       "      <td>-73.94190</td>\n",
       "      <td>United States</td>\n",
       "      <td>...</td>\n",
       "      <td>2005.0</td>\n",
       "      <td>620.0</td>\n",
       "      <td>124.0</td>\n",
       "      <td>3.0</td>\n",
       "      <td>0.0</td>\n",
       "      <td>2012-08-25</td>\n",
       "      <td>0.74</td>\n",
       "      <td>5.0</td>\n",
       "      <td>1.0</td>\n",
       "      <td>352.0</td>\n",
       "    </tr>\n",
       "    <tr>\n",
       "      <th>4</th>\n",
       "      <td>1003689</td>\n",
       "      <td>Entire Apt: Spacious Studio/Loft by central park</td>\n",
       "      <td>92037596077</td>\n",
       "      <td>verified</td>\n",
       "      <td>Lyndon</td>\n",
       "      <td>Manhattan</td>\n",
       "      <td>East Harlem</td>\n",
       "      <td>40.79851</td>\n",
       "      <td>-73.94399</td>\n",
       "      <td>United States</td>\n",
       "      <td>...</td>\n",
       "      <td>2009.0</td>\n",
       "      <td>204.0</td>\n",
       "      <td>41.0</td>\n",
       "      <td>10.0</td>\n",
       "      <td>9.0</td>\n",
       "      <td>2018-11-19</td>\n",
       "      <td>0.10</td>\n",
       "      <td>3.0</td>\n",
       "      <td>1.0</td>\n",
       "      <td>289.0</td>\n",
       "    </tr>\n",
       "    <tr>\n",
       "      <th>5</th>\n",
       "      <td>1004098</td>\n",
       "      <td>Large Cozy 1 BR Apartment In Midtown East</td>\n",
       "      <td>45498551794</td>\n",
       "      <td>verified</td>\n",
       "      <td>Michelle</td>\n",
       "      <td>Manhattan</td>\n",
       "      <td>Murray Hill</td>\n",
       "      <td>40.74767</td>\n",
       "      <td>-73.97500</td>\n",
       "      <td>United States</td>\n",
       "      <td>...</td>\n",
       "      <td>2013.0</td>\n",
       "      <td>577.0</td>\n",
       "      <td>115.0</td>\n",
       "      <td>3.0</td>\n",
       "      <td>74.0</td>\n",
       "      <td>2019-06-22</td>\n",
       "      <td>0.59</td>\n",
       "      <td>3.0</td>\n",
       "      <td>1.0</td>\n",
       "      <td>374.0</td>\n",
       "    </tr>\n",
       "  </tbody>\n",
       "</table>\n",
       "<p>5 rows × 24 columns</p>\n",
       "</div>"
      ],
      "text/plain": [
       "        id                                              NAME      host id  \\\n",
       "0  1001254                Clean & quiet apt home by the park  80014485718   \n",
       "1  1002102                             Skylit Midtown Castle  52335172823   \n",
       "2  1002403               THE VILLAGE OF HARLEM....NEW YORK !  78829239556   \n",
       "4  1003689  Entire Apt: Spacious Studio/Loft by central park  92037596077   \n",
       "5  1004098         Large Cozy 1 BR Apartment In Midtown East  45498551794   \n",
       "\n",
       "  host_identity_verified host name neighbourhood group neighbourhood  \\\n",
       "0            unconfirmed  Madaline            Brooklyn    Kensington   \n",
       "1               verified     Jenna           Manhattan       Midtown   \n",
       "2                    NaN     Elise           Manhattan        Harlem   \n",
       "4               verified    Lyndon           Manhattan   East Harlem   \n",
       "5               verified  Michelle           Manhattan   Murray Hill   \n",
       "\n",
       "        lat      long        country  ... Construction year  price  \\\n",
       "0  40.64749 -73.97237  United States  ...            2020.0  966.0   \n",
       "1  40.75362 -73.98377  United States  ...            2007.0  142.0   \n",
       "2  40.80902 -73.94190  United States  ...            2005.0  620.0   \n",
       "4  40.79851 -73.94399  United States  ...            2009.0  204.0   \n",
       "5  40.74767 -73.97500  United States  ...            2013.0  577.0   \n",
       "\n",
       "  service fee minimum nights  number of reviews  last review  \\\n",
       "0       193.0           10.0                9.0   2021-10-19   \n",
       "1        28.0           30.0               45.0   2022-05-21   \n",
       "2       124.0            3.0                0.0   2012-08-25   \n",
       "4        41.0           10.0                9.0   2018-11-19   \n",
       "5       115.0            3.0               74.0   2019-06-22   \n",
       "\n",
       "   reviews per month  review rate number  calculated host listings count  \\\n",
       "0               0.21                 4.0                             6.0   \n",
       "1               0.38                 4.0                             2.0   \n",
       "2               0.74                 5.0                             1.0   \n",
       "4               0.10                 3.0                             1.0   \n",
       "5               0.59                 3.0                             1.0   \n",
       "\n",
       "  availability 365  \n",
       "0            286.0  \n",
       "1            228.0  \n",
       "2            352.0  \n",
       "4            289.0  \n",
       "5            374.0  \n",
       "\n",
       "[5 rows x 24 columns]"
      ]
     },
     "execution_count": 38,
     "metadata": {},
     "output_type": "execute_result"
    }
   ],
   "source": [
    "df.head()"
   ]
  },
  {
   "cell_type": "markdown",
   "id": "3597e554-5e22-427f-9bad-76088c3ba727",
   "metadata": {},
   "source": [
    "# Removed Duplicates"
   ]
  },
  {
   "cell_type": "code",
   "execution_count": 39,
   "id": "43d31a15-89f9-4fde-af5a-0138025da027",
   "metadata": {},
   "outputs": [],
   "source": [
    "df.drop_duplicates(inplace=True)"
   ]
  },
  {
   "cell_type": "markdown",
   "id": "7591f0a8-449a-41e8-9702-4494183d6803",
   "metadata": {},
   "source": [
    "# Visualization\n",
    "# What is the distribution of Listing Prices?"
   ]
  },
  {
   "cell_type": "code",
   "execution_count": 42,
   "id": "bdb8ae3e-be2b-42df-a519-fe5583192f25",
   "metadata": {},
   "outputs": [
    {
     "data": {
      "image/png": "[encoded data removed]",
      "text/plain": [
       "<Figure size 1000x600 with 1 Axes>"
      ]
     },
     "metadata": {},
     "output_type": "display_data"
    }
   ],
   "source": [
    "plt.figure(figsize = (10,6))\n",
    "sns.histplot(df['price'], bins= 50, kde = True, color= 'Red')\n",
    "plt.title(\"Distribution of listing price\")\n",
    "plt.xlabel(\"Price $\")\n",
    "plt.ylabel(\"Frequency\")\n",
    "plt.show()"
   ]
  },
  {
   "cell_type": "code",
   "execution_count": 44,
   "id": "78688ac6-5ba9-4d8a-b3a3-6490b4e5ea64",
   "metadata": {},
   "outputs": [
    {
     "name": "stdout",
     "output_type": "stream",
     "text": [
      "\n",
      "The histogram shows a fairly even distribution of listing prices across different price ranges.\n",
      "The KDE line helps visualize this even spread more clearly, confirming that the dataset contains listings with a wide variety of prices.\n",
      "\n"
     ]
    }
   ],
   "source": [
    "conclusion = \"\"\"\n",
    "The histogram shows a fairly even distribution of listing prices across different price ranges.\n",
    "The KDE line helps visualize this even spread more clearly, confirming that the dataset contains listings with a wide variety of prices.\n",
    "\"\"\"\n",
    "print(conclusion)\n"
   ]
  },
  {
   "cell_type": "markdown",
   "id": "c28d3be1-5497-4cab-8bd2-f8197ce13001",
   "metadata": {},
   "source": [
    "# How are different Room Types distributed?"
   ]
  },
  {
   "cell_type": "code",
   "execution_count": 45,
   "id": "274e5069-9f99-4061-82e9-adb22d1e3b70",
   "metadata": {},
   "outputs": [
    {
     "data": {
      "text/plain": [
       "0            Private room\n",
       "1         Entire home/apt\n",
       "2            Private room\n",
       "4         Entire home/apt\n",
       "5         Entire home/apt\n",
       "               ...       \n",
       "102053       Private room\n",
       "102054       Private room\n",
       "102055    Entire home/apt\n",
       "102056       Private room\n",
       "102057    Entire home/apt\n",
       "Name: room type, Length: 101808, dtype: object"
      ]
     },
     "execution_count": 45,
     "metadata": {},
     "output_type": "execute_result"
    }
   ],
   "source": [
    "df['room type']"
   ]
  },
  {
   "cell_type": "code",
   "execution_count": 52,
   "id": "9c25fbde-0b16-420a-8e66-91a111bdf7b3",
   "metadata": {},
   "outputs": [
    {
     "data": {
      "image/png": "[encoded data removed]",
      "text/plain": [
       "<Figure size 800x500 with 1 Axes>"
      ]
     },
     "metadata": {},
     "output_type": "display_data"
    }
   ],
   "source": [
    "plt.figure(figsize = (8,5))\n",
    "sns.countplot( x=\"room type\", data = df, color= \"green\")\n",
    "plt.title(\"Room Type Distribution\")\n",
    "plt.xlabel(\"Room Type\")\n",
    "plt.ylabel(\"Count\")\n",
    "plt.show()"
   ]
  },
  {
   "cell_type": "markdown",
   "id": "ad8d3578-739e-4e81-a781-c9690617b921",
   "metadata": {},
   "source": [
    "# How are listings distributed across different Neighbourhoods?"
   ]
  },
  {
   "cell_type": "code",
   "execution_count": 58,
   "id": "2788a685-9da5-4357-9b98-0b1563f02d14",
   "metadata": {},
   "outputs": [
    {
     "data": {
      "image/png": "[encoded data removed]",
      "text/plain": [
       "<Figure size 1200x800 with 1 Axes>"
      ]
     },
     "metadata": {},
     "output_type": "display_data"
    }
   ],
   "source": [
    "import matplotlib.pyplot as plt\n",
    "\n",
    "plt.figure(figsize = (12,8))\n",
    "sns.countplot(y = 'neighbourhood group', data=df,color=\"lightgreen\", order=df['neighbourhood group'].value_counts().index)\n",
    "plt.title('Number of listings by Neighbourhood Group')\n",
    "plt.xlabel('Count')\n",
    "plt.ylabel('Neighbourhood Group')\n",
    "\n",
    "# Remove rows where 'neighbourhood group' is 'Unknown'\n",
    "df = df[df['neighbourhood group'] != 'Unknown']\n",
    "\n",
    "plt.show()\n"
   ]
  },
  {
   "cell_type": "markdown",
   "id": "933d9656-0fe0-4d2b-9770-cea9483e3e60",
   "metadata": {},
   "source": [
    "# What is the relationship between Price and Room Type?"
   ]
  },
  {
   "cell_type": "code",
   "execution_count": 59,
   "id": "0de67319-574e-4be7-9e43-699a90eccbbd",
   "metadata": {},
   "outputs": [
    {
     "name": "stderr",
     "output_type": "stream",
     "text": [
      "C:\\Users\\archi\\AppData\\Local\\Temp\\ipykernel_308\\3840914037.py:6: UserWarning: No artists with labels found to put in legend.  Note that artists whose label start with an underscore are ignored when legend() is called with no argument.\n",
      "  plt.legend(title= 'Room Type')\n"
     ]
    },
    {
     "data": {
      "image/png": "[encoded data removed]",
      "text/plain": [
       "<Figure size 1000x600 with 1 Axes>"
      ]
     },
     "metadata": {},
     "output_type": "display_data"
    }
   ],
   "source": [
    "plt.figure(figsize=(10,6))\n",
    "sns.boxplot(x='room type',y='price', hue='room type', data=df, palette='Set1')\n",
    "plt.title('Prive vs. Room Type')\n",
    "plt.xlabel('Room Type')\n",
    "plt.ylabel('Price($)')\n",
    "plt.legend(title= 'Room Type')\n",
    "plt.show()"
   ]
  },
  {
   "cell_type": "markdown",
   "id": "9ed32f52-65e9-4cff-b895-c91a704fcdf3",
   "metadata": {},
   "source": [
    "# How has the number of reviws chaged over time?"
   ]
  },
  {
   "cell_type": "code",
   "execution_count": 61,
   "id": "262f7f89-ecbd-41cd-979d-d250581324e8",
   "metadata": {},
   "outputs": [
    {
     "data": {
      "image/png": "[encoded data removed]",
      "text/plain": [
       "<Figure size 1200x600 with 1 Axes>"
      ]
     },
     "metadata": {},
     "output_type": "display_data"
    }
   ],
   "source": [
    "import pandas as pd\n",
    "import matplotlib.pyplot as plt\n",
    "\n",
    "# Convert 'last review' to datetime\n",
    "df['last review'] = pd.to_datetime(df['last review'], errors='coerce')\n",
    "\n",
    "# Group by month and count reviews\n",
    "reviews_over_time = df.groupby(df['last review'].dt.to_period('M')).size()\n",
    "\n",
    "# Plot the data\n",
    "plt.figure(figsize=(12,6))\n",
    "reviews_over_time.plot(kind='line', color='red')\n",
    "\n",
    "plt.title('Number of Reviews Over Time')\n",
    "plt.xlabel('Date')\n",
    "plt.ylabel('Number of Reviews')\n",
    "plt.show()\n"
   ]
  },
  {
   "cell_type": "code",
   "execution_count": null,
   "id": "12bc9abb-12d8-4434-a5e7-05863b4c30de",
   "metadata": {},
   "outputs": [],
   "source": []
  }
 ],
 "metadata": {
  "kernelspec": {
   "display_name": "Python 3 (ipykernel)",
   "language": "python",
   "name": "python3"
  },
  "language_info": {
   "codemirror_mode": {
    "name": "ipython",
    "version": 3
   },
   "file_extension": ".py",
   "mimetype": "text/x-python",
   "name": "python",
   "nbconvert_exporter": "python",
   "pygments_lexer": "ipython3",
   "version": "3.13.2"
  }
 },
 "nbformat": 4,
 "nbformat_minor": 5
}
